{
 "metadata": {
  "name": "Static Features Analysis"
 },
 "nbformat": 3,
 "nbformat_minor": 0,
 "worksheets": [
  {
   "cells": [
    {
     "cell_type": "code",
     "collapsed": false,
     "input": [
      "import sklearn\n",
      "import load_static_features\n",
      "import utilities"
     ],
     "language": "python",
     "metadata": {},
     "outputs": [],
     "prompt_number": 1
    },
    {
     "cell_type": "code",
     "collapsed": false,
     "input": [
      "all_features = load_static_features.load_adjective_phase(\"/home/pezzotto/log/hmm_features/\")"
     ],
     "language": "python",
     "metadata": {},
     "outputs": [],
     "prompt_number": 2
    },
    {
     "cell_type": "markdown",
     "metadata": {},
     "source": [
      "Collecting all the data, train + test, in a singel matrix per adjective"
     ]
    },
    {
     "cell_type": "code",
     "collapsed": false,
     "input": [
      "features_matrices = {}\n",
      "for adj in utilities.adjectives:\n",
      "    adj_dict = all_features[adj]\n",
      "    alL_motions_train = hstack([v['train']['features'][v['train']['labels'] > 0, :] #select only positive examples\n",
      "            for v in adj_dict.values()]) #getting a big matrix for train\n",
      "    all_motions_test = hstack([v['test']['features'] [v['test']['labels'] > 0, :] #select only positive examples\n",
      "            for v in adj_dict.values()]) #getting a big matrix for test\n",
      "    features_matrices[adj] = vstack((alL_motions_train, all_motions_test))"
     ],
     "language": "python",
     "metadata": {},
     "outputs": [],
     "prompt_number": 3
    },
    {
     "cell_type": "markdown",
     "metadata": {},
     "source": [
      "How many dimensions are required per adjective?"
     ]
    },
    {
     "cell_type": "code",
     "collapsed": false,
     "input": [
      "all_pca_n_components = {}\n",
      "desired_variance = 0.97\n",
      "for adj, matrix in features_matrices.iteritems():\n",
      "    pca = sklearn.decomposition.PCA(desired_variance).fit(matrix)\n",
      "    all_pca_n_components[adj] = pca.n_components\n",
      "\n",
      "print \"Average number of components, desired variance of \", desired_variance, \": \", mean(all_pca_n_components.values())\n",
      "figure()\n",
      "plot(all_pca_n_components.values(), 'o')\n",
      "title(\"Number of components, variance: %f\" % desired_variance);"
     ],
     "language": "python",
     "metadata": {},
     "outputs": [
      {
       "output_type": "stream",
       "stream": "stdout",
       "text": [
        "Average number of components, desired variance of  0.97 :  3.20833333333\n"
       ]
      }
     ],
     "prompt_number": 4
    },
    {
     "cell_type": "code",
     "collapsed": false,
     "input": [],
     "language": "python",
     "metadata": {},
     "outputs": [],
     "prompt_number": 4
    }
   ],
   "metadata": {}
  }
 ]
}