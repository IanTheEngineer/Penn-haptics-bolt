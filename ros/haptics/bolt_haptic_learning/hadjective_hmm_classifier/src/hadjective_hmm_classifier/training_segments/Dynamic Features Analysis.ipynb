{
 "metadata": {
  "name": "Dynamic Features Analysis"
 },
 "nbformat": 3,
 "nbformat_minor": 0,
 "worksheets": [
  {
   "cells": [
    {
     "cell_type": "heading",
     "level": 1,
     "metadata": {},
     "source": [
      "Dynamic Features Analysis"
     ]
    },
    {
     "cell_type": "code",
     "collapsed": false,
     "input": [
      "import sklearn\n",
      "import load_static_features\n",
      "import utilities\n",
      "%pylab inline\n",
      "figsize(10,5)"
     ],
     "language": "python",
     "metadata": {},
     "outputs": [
      {
       "output_type": "stream",
       "stream": "stdout",
       "text": [
        "\n",
        "Welcome to pylab, a matplotlib-based Python environment [backend: module://IPython.zmq.pylab.backend_inline].\n",
        "For more information, type 'help(pylab)'.\n"
       ]
      }
     ],
     "prompt_number": 1
    },
    {
     "cell_type": "code",
     "collapsed": false,
     "input": [
      "all_features = load_static_features.load_adjective_phase(\"/home/pezzotto/log/hmm_features/\")"
     ],
     "language": "python",
     "metadata": {},
     "outputs": [],
     "prompt_number": 2
    },
    {
     "cell_type": "markdown",
     "metadata": {},
     "source": [
      "Collecting all the data, **positive and negative** train, in a single matrix per adjective"
     ]
    },
    {
     "cell_type": "code",
     "collapsed": false,
     "input": [
      "features_matrices = {}\n",
      "train_features = {}\n",
      "test_features = {}\n",
      "for adj in utilities.adjectives:\n",
      "    adj_dict = all_features[adj]\n",
      "    all_motions_train_pos = hstack([v['train']['features'][v['train']['labels'] > 0, :] #select only positive examples\n",
      "            for v in adj_dict.values()]) #getting a big matrix for train\n",
      "    all_motions_train_neg = hstack([v['train']['features'][v['train']['labels'] <= 0, :] #select only negative examples\n",
      "            for v in adj_dict.values()]) #getting a big matrix for train\n",
      "    all_motions_test_pos = hstack([v['test']['features'] [v['test']['labels'] > 0, :] #select only positive examples\n",
      "            for v in adj_dict.values()]) #getting a big matrix for test\n",
      "    all_motions_test_neg = hstack([v['test']['features'] [v['test']['labels'] <= 0, :] #select only positive examples\n",
      "            for v in adj_dict.values()]) #getting a big matrix for test\n",
      "    features_matrices[adj] = vstack((all_motions_train_pos, all_motions_train_neg))\n",
      "    train_features[adj] = {'pos': all_motions_train_pos, 'neg': all_motions_train_neg}\n",
      "    test_features[adj] = {'pos': all_motions_test_pos, 'neg': all_motions_test_neg}"
     ],
     "language": "python",
     "metadata": {},
     "outputs": [],
     "prompt_number": 3
    },
    {
     "cell_type": "markdown",
     "metadata": {},
     "source": [
      "How many dimensions are required per adjective?"
     ]
    },
    {
     "cell_type": "code",
     "collapsed": false,
     "input": [
      "all_pca_n_components = {}\n",
      "all_pcas = {}\n",
      "desired_variance = 0.97\n",
      "for adj, matrix in features_matrices.iteritems():\n",
      "    pca = sklearn.decomposition.PCA(desired_variance).fit(matrix)\n",
      "    all_pca_n_components[adj] = pca.n_components\n",
      "    all_pcas[adj] = pca\n",
      "\n",
      "print \"Average number of components, desired variance of \", desired_variance, \": \", mean(all_pca_n_components.values())\n",
      "figure()\n",
      "plot(all_pca_n_components.values(), 'o')\n",
      "title(\"Number of components, variance: %f\" % desired_variance);"
     ],
     "language": "python",
     "metadata": {},
     "outputs": [
      {
       "output_type": "stream",
       "stream": "stdout",
       "text": [
        "Average number of components, desired variance of  0.97 :  12.3333333333\n"
       ]
      },
      {
       "output_type": "display_data",
       "png": "[encoded data removed]",
       "text": [
        "<matplotlib.figure.Figure at 0x46f7b90>"
       ]
      }
     ],
     "prompt_number": 4
    },
    {
     "cell_type": "markdown",
     "metadata": {},
     "source": [
      "Let's try to train an SVM for both the one-dimensional and 188-dimensional feacture vectors corresponding to **smooth**"
     ]
    },
    {
     "cell_type": "code",
     "collapsed": false,
     "input": [
      "adj = \"smooth\"\n",
      "train_set = train_features[adj]\n",
      "test_set = test_features[adj]\n",
      "pca = all_pcas[adj]\n",
      "print \"Number of components for adjective %s is %d\" %(adj, pca.n_components)"
     ],
     "language": "python",
     "metadata": {},
     "outputs": [
      {
       "output_type": "stream",
       "stream": "stdout",
       "text": [
        "Number of components for adjective smooth is 12\n"
       ]
      }
     ],
     "prompt_number": 5
    },
    {
     "cell_type": "markdown",
     "metadata": {},
     "source": [
      "First train with all the features"
     ]
    },
    {
     "cell_type": "code",
     "collapsed": false,
     "input": [
      "train_X = vstack((train_set['pos'], train_set['neg'])) #data\n",
      "train_Y = ([1] * train_set['pos'].shape[0]) + ([0] * train_set['neg'].shape[0]) #labels\n",
      "test_X = vstack((test_set['pos'], test_set['neg'])) #data\n",
      "test_Y = ([1] * test_set['pos'].shape[0]) + ([0] * test_set['neg'].shape[0]) #labels\n",
      "svm_best, scaler = utilities.train_svm_gridsearch(train_X, train_Y,n_jobs=1, verbose=1)\n",
      "print \"Best SVM: %s\" % repr(svm_best)\n",
      "svm_out = svm_best.predict(train_X)\n",
      "score = sklearn.metrics.f1_score(train_Y, svm_out)\n",
      "print \"Score on training set: %.2f\" % score\n",
      "svm_out = svm_best.predict(test_X)\n",
      "score = sklearn.metrics.f1_score(test_Y, svm_out)\n",
      "print \"Score on test set: %.2f\" % score"
     ],
     "language": "python",
     "metadata": {},
     "outputs": [
      {
       "output_type": "stream",
       "stream": "stderr",
       "text": [
        "[Parallel(n_jobs=1)]: Done   1 jobs       | elapsed:    0.0s\n",
        "[Parallel(n_jobs=1)]: Done  50 jobs       | elapsed:    0.7s\n"
       ]
      },
      {
       "output_type": "stream",
       "stream": "stderr",
       "text": [
        "[Parallel(n_jobs=1)]: Done 200 jobs       | elapsed:    2.8s\n",
        "[Parallel(n_jobs=1)]: Done 450 jobs       | elapsed:    6.3s\n"
       ]
      },
      {
       "output_type": "stream",
       "stream": "stderr",
       "text": [
        "[Parallel(n_jobs=1)]: Done 800 jobs       | elapsed:   11.2s\n",
        "[Parallel(n_jobs=1)]: Done 1000 out of 1000 | elapsed:   14.0s finished\n"
       ]
      },
      {
       "output_type": "stream",
       "stream": "stdout",
       "text": [
        "Cannot perform leave one out cross validation\n",
        "Best SVM: LinearSVC(C=1.0, class_weight='auto', dual=False, fit_intercept=True,\n",
        "     intercept_scaling=1, loss='l2', multi_class='ovr', penalty='l2',\n",
        "     random_state=None, tol=0.0001, verbose=0)"
       ]
      },
      {
       "output_type": "stream",
       "stream": "stdout",
       "text": [
        "\n",
        "Score on training set: 0.81\n",
        "Score on test set: 0.81\n"
       ]
      }
     ],
     "prompt_number": 7
    },
    {
     "cell_type": "markdown",
     "metadata": {},
     "source": [
      "Now try with PCA'd training set"
     ]
    },
    {
     "cell_type": "code",
     "collapsed": false,
     "input": [
      "train_X = pca.transform(vstack((train_set['pos'], train_set['neg']))) #data\n",
      "train_Y = ([1] * train_set['pos'].shape[0]) + ([0] * train_set['neg'].shape[0]) #labels\n",
      "test_X = pca.transform(vstack((test_set['pos'], test_set['neg']))) #data\n",
      "test_Y = ([1] * test_set['pos'].shape[0]) + ([0] * test_set['neg'].shape[0]) #labels\n",
      "svm_best, scaler = utilities.train_svm_gridsearch(train_X, train_Y,n_jobs=1, verbose=1)\n",
      "print \"Best SVM: %s\" % repr(svm_best)\n",
      "svm_out = svm_best.predict(train_X)\n",
      "score = sklearn.metrics.f1_score(train_Y, svm_out)\n",
      "print \"Score on training set: %.2f\" % score\n",
      "svm_out = svm_best.predict(test_X)\n",
      "score = sklearn.metrics.f1_score(test_Y, svm_out)\n",
      "print \"Score on test set: %.2f\" % score"
     ],
     "language": "python",
     "metadata": {},
     "outputs": [
      {
       "output_type": "stream",
       "stream": "stderr",
       "text": [
        "[Parallel(n_jobs=1)]: Done   1 jobs       | elapsed:    0.0s\n",
        "[Parallel(n_jobs=1)]: Done  50 jobs       | elapsed:    0.1s\n"
       ]
      },
      {
       "output_type": "stream",
       "stream": "stderr",
       "text": [
        "[Parallel(n_jobs=1)]: Done 200 jobs       | elapsed:    0.4s\n",
        "[Parallel(n_jobs=1)]: Done 450 jobs       | elapsed:    0.8s\n"
       ]
      },
      {
       "output_type": "stream",
       "stream": "stderr",
       "text": [
        "[Parallel(n_jobs=1)]: Done 800 jobs       | elapsed:    1.4s\n",
        "[Parallel(n_jobs=1)]: Done 1000 out of 1000 | elapsed:    1.7s finished\n"
       ]
      },
      {
       "output_type": "stream",
       "stream": "stdout",
       "text": [
        "Cannot perform leave one out cross validation\n",
        "Best SVM: LinearSVC(C=1.0, class_weight='auto', dual=False, fit_intercept=True,\n",
        "     intercept_scaling=1, loss='l2', multi_class='ovr', penalty='l1',\n",
        "     random_state=None, tol=0.0001, verbose=0)"
       ]
      },
      {
       "output_type": "stream",
       "stream": "stdout",
       "text": [
        "\n",
        "Score on training set: 0.78\n",
        "Score on test set: 0.79\n"
       ]
      }
     ],
     "prompt_number": 8
    },
    {
     "cell_type": "heading",
     "level": 4,
     "metadata": {},
     "source": [
      "The result shows that, although the score on the training set is low, the score on the test set is the same. PCA does not make the generalization capabilities worse!"
     ]
    },
    {
     "cell_type": "heading",
     "level": 2,
     "metadata": {},
     "source": [
      "Training all the adjectives with PCA"
     ]
    },
    {
     "cell_type": "code",
     "collapsed": false,
     "input": [
      "all_svms_pca = {}\n",
      "svm_scores_pca = {}\n",
      "for adj in utilities.adjectives:\n",
      "    print \"Training adjective \", adj\n",
      "    train_set = train_features[adj]\n",
      "    test_set = test_features[adj]    \n",
      "    train_X = vstack((train_set['pos'], train_set['neg'])) #data\n",
      "    pca = sklearn.decomposition.PCA(desired_variance).fit(train_X)    \n",
      "    all_pcas[adj] = pca\n",
      "    train_X = pca.transform(train_X)    \n",
      "    train_Y = ([1] * train_set['pos'].shape[0]) + ([0] * train_set['neg'].shape[0]) #labels\n",
      "    \n",
      "    test_X = pca.transform(vstack((test_set['pos'], test_set['neg']))) #data\n",
      "    test_Y = ([1] * test_set['pos'].shape[0]) + ([0] * test_set['neg'].shape[0]) #labels\n",
      "    svm_best, scaler = utilities.train_svm_gridsearch(train_X, train_Y,n_jobs=1, verbose=0)\n",
      "    all_svms_pca[adj] = svm_best\n",
      "    #print \"Best SVM: %s\" % repr(svm_best)\n",
      "    svm_out = svm_best.predict(train_X)\n",
      "    score = sklearn.metrics.f1_score(train_Y, svm_out)\n",
      "    print \"Score on training set: %.2f\" % score\n",
      "    svm_out = svm_best.predict(test_X)\n",
      "    score = sklearn.metrics.f1_score(test_Y, svm_out)\n",
      "    svm_scores_pca[adj] = score #recording F1 score on test set\n",
      "    print \"Score on test set: %.2f\" % score\n",
      "    print \"\""
     ],
     "language": "python",
     "metadata": {},
     "outputs": [
      {
       "output_type": "stream",
       "stream": "stdout",
       "text": [
        "Training adjective  absorbent\n",
        "Cannot perform leave one out cross validation\n",
        "Score on training set: 0.83"
       ]
      },
      {
       "output_type": "stream",
       "stream": "stdout",
       "text": [
        "\n",
        "Score on test set: 0.83\n",
        "\n",
        "Training adjective  bumpy\n",
        "Cannot perform leave one out cross validation\n",
        "Score on training set: 0.79"
       ]
      },
      {
       "output_type": "stream",
       "stream": "stdout",
       "text": [
        "\n",
        "Score on test set: 0.00\n",
        "\n",
        "Training adjective  compressible\n",
        "Cannot perform leave one out cross validation\n",
        "Score on training set: 0.78"
       ]
      },
      {
       "output_type": "stream",
       "stream": "stdout",
       "text": [
        "\n",
        "Score on test set: 0.97\n",
        "\n",
        "Training adjective  cool\n",
        "Cannot perform leave one out cross validation\n",
        "Score on training set: 0.02"
       ]
      },
      {
       "output_type": "stream",
       "stream": "stdout",
       "text": [
        "\n",
        "Score on test set: 0.00\n",
        "\n",
        "Training adjective  crinkly\n",
        "Cannot perform leave one out cross validation\n",
        "Score on training set: 0.95"
       ]
      },
      {
       "output_type": "stream",
       "stream": "stdout",
       "text": [
        "\n",
        "Score on test set: 1.00\n",
        "\n",
        "Training adjective  fuzzy\n",
        "Cannot perform leave one out cross validation\n",
        "Score on training set: 0.00"
       ]
      },
      {
       "output_type": "stream",
       "stream": "stdout",
       "text": [
        "\n",
        "Score on test set: 0.00\n",
        "\n",
        "Training adjective  hairy\n",
        "Cannot perform leave one out cross validation\n",
        "Score on training set: 0.00"
       ]
      },
      {
       "output_type": "stream",
       "stream": "stdout",
       "text": [
        "\n",
        "Score on test set: 0.00\n",
        "\n",
        "Training adjective  hard\n",
        "Cannot perform leave one out cross validation\n",
        "Score on training set: 0.84"
       ]
      },
      {
       "output_type": "stream",
       "stream": "stdout",
       "text": [
        "\n",
        "Score on test set: 0.85\n",
        "\n",
        "Training adjective  metallic\n",
        "Cannot perform leave one out cross validation\n",
        "Score on training set: 0.00"
       ]
      },
      {
       "output_type": "stream",
       "stream": "stdout",
       "text": [
        "\n",
        "Score on test set: 0.00\n",
        "\n",
        "Training adjective  nice\n",
        "Cannot perform leave one out cross validation\n",
        "Score on training set: 1.00"
       ]
      },
      {
       "output_type": "stream",
       "stream": "stdout",
       "text": [
        "\n",
        "Score on test set: 1.00\n",
        "\n",
        "Training adjective  porous\n",
        "Cannot perform leave one out cross validation\n",
        "Score on training set: 0.80"
       ]
      },
      {
       "output_type": "stream",
       "stream": "stdout",
       "text": [
        "\n",
        "Score on test set: 0.18\n",
        "\n",
        "Training adjective  rough\n",
        "Cannot perform leave one out cross validation\n",
        "Score on training set: 0.00"
       ]
      },
      {
       "output_type": "stream",
       "stream": "stdout",
       "text": [
        "\n",
        "Score on test set: 0.00\n",
        "\n",
        "Training adjective  scratchy\n",
        "Cannot perform leave one out cross validation\n",
        "Score on training set: 0.62"
       ]
      },
      {
       "output_type": "stream",
       "stream": "stdout",
       "text": [
        "\n",
        "Score on test set: 0.18\n",
        "\n",
        "Training adjective  slippery\n",
        "Cannot perform leave one out cross validation\n",
        "Score on training set: 0.00"
       ]
      },
      {
       "output_type": "stream",
       "stream": "stdout",
       "text": [
        "\n",
        "Score on test set: 0.00\n",
        "\n",
        "Training adjective  smooth\n",
        "Cannot perform leave one out cross validation\n",
        "Score on training set: 0.78"
       ]
      },
      {
       "output_type": "stream",
       "stream": "stdout",
       "text": [
        "\n",
        "Score on test set: 0.79\n",
        "\n",
        "Training adjective  soft\n",
        "Cannot perform leave one out cross validation\n",
        "Score on training set: 0.85"
       ]
      },
      {
       "output_type": "stream",
       "stream": "stdout",
       "text": [
        "\n",
        "Score on test set: 0.70\n",
        "\n",
        "Training adjective  solid\n",
        "Cannot perform leave one out cross validation\n",
        "Score on training set: 0.91"
       ]
      },
      {
       "output_type": "stream",
       "stream": "stdout",
       "text": [
        "\n",
        "Score on test set: 0.98\n",
        "\n",
        "Training adjective  springy\n",
        "Cannot perform leave one out cross validation\n",
        "Score on training set: 0.56"
       ]
      },
      {
       "output_type": "stream",
       "stream": "stdout",
       "text": [
        "\n",
        "Score on test set: 0.82\n",
        "\n",
        "Training adjective  squishy\n",
        "Cannot perform leave one out cross validation\n",
        "Score on training set: 0.86"
       ]
      },
      {
       "output_type": "stream",
       "stream": "stdout",
       "text": [
        "\n",
        "Score on test set: 0.79\n",
        "\n",
        "Training adjective  sticky\n",
        "Cannot perform leave one out cross validation\n",
        "Score on training set: 1.00"
       ]
      },
      {
       "output_type": "stream",
       "stream": "stdout",
       "text": [
        "\n",
        "Score on test set: 1.00\n",
        "\n",
        "Training adjective  textured\n",
        "Cannot perform leave one out cross validation\n",
        "Score on training set: 0.01"
       ]
      },
      {
       "output_type": "stream",
       "stream": "stdout",
       "text": [
        "\n",
        "Score on test set: 0.00\n",
        "\n",
        "Training adjective  thick\n",
        "Cannot perform leave one out cross validation\n",
        "Score on training set: 0.00"
       ]
      },
      {
       "output_type": "stream",
       "stream": "stdout",
       "text": [
        "\n",
        "Score on test set: 0.00\n",
        "\n",
        "Training adjective  thin\n",
        "Cannot perform leave one out cross validation\n",
        "Score on training set: 1.00"
       ]
      },
      {
       "output_type": "stream",
       "stream": "stdout",
       "text": [
        "\n",
        "Score on test set: 1.00\n",
        "\n",
        "Training adjective  unpleasant\n",
        "Cannot perform leave one out cross validation\n",
        "Score on training set: 1.00"
       ]
      },
      {
       "output_type": "stream",
       "stream": "stdout",
       "text": [
        "\n",
        "Score on test set: 1.00\n",
        "\n"
       ]
      }
     ],
     "prompt_number": 9
    },
    {
     "cell_type": "heading",
     "level": 2,
     "metadata": {},
     "source": [
      "Training without PCA"
     ]
    },
    {
     "cell_type": "code",
     "collapsed": false,
     "input": [
      "all_svms = {}\n",
      "svm_score = {}\n",
      "for adj in utilities.adjectives:\n",
      "    print \"Training adjective \", adj\n",
      "    train_set = train_features[adj]\n",
      "    test_set = test_features[adj]\n",
      "    train_X = vstack((train_set['pos'], train_set['neg'])) #data\n",
      "    train_Y = ([1] * train_set['pos'].shape[0]) + ([0] * train_set['neg'].shape[0]) #labels\n",
      "    test_X = vstack((test_set['pos'], test_set['neg'])) #data\n",
      "    test_Y = ([1] * test_set['pos'].shape[0]) + ([0] * test_set['neg'].shape[0]) #labels\n",
      "    svm_best, scaler = utilities.train_svm_gridsearch(train_X, train_Y,n_jobs=6, verbose=0)\n",
      "    all_svms[adj] = svm_best\n",
      "    #print \"Best SVM: %s\" % repr(svm_best)\n",
      "    svm_out = svm_best.predict(train_X)\n",
      "    score = sklearn.metrics.f1_score(train_Y, svm_out)\n",
      "    print \"Score on training set: %.2f\" % score\n",
      "    svm_out = svm_best.predict(test_X)\n",
      "    score = sklearn.metrics.f1_score(test_Y, svm_out)\n",
      "    svm_score[adj] = score\n",
      "    print \"Score on test set: %.2f\" % score\n",
      "    print \"\""
     ],
     "language": "python",
     "metadata": {},
     "outputs": [
      {
       "output_type": "stream",
       "stream": "stdout",
       "text": [
        "Training adjective  absorbent\n",
        "Cannot perform leave one out cross validation\n"
       ]
      },
      {
       "output_type": "stream",
       "stream": "stdout",
       "text": [
        "Score on training set: 0.88\n",
        "Score on test set: 0.75\n",
        "\n",
        "Training adjective  bumpy\n",
        "Cannot perform leave one out cross validation\n"
       ]
      },
      {
       "output_type": "stream",
       "stream": "stdout",
       "text": [
        "Score on training set: 0.97\n",
        "Score on test set: 0.12\n",
        "\n",
        "Training adjective  compressible\n",
        "Cannot perform leave one out cross validation\n"
       ]
      },
      {
       "output_type": "stream",
       "stream": "stdout",
       "text": [
        "Score on training set: 0.78\n",
        "Score on test set: 0.97\n",
        "\n",
        "Training adjective  cool\n",
        "Cannot perform leave one out cross validation\n"
       ]
      },
      {
       "output_type": "stream",
       "stream": "stdout",
       "text": [
        "Score on training set: 0.02\n",
        "Score on test set: 0.00\n",
        "\n",
        "Training adjective  crinkly\n",
        "Cannot perform leave one out cross validation\n"
       ]
      },
      {
       "output_type": "stream",
       "stream": "stdout",
       "text": [
        "Score on training set: 1.00\n",
        "Score on test set: 1.00\n",
        "\n",
        "Training adjective  fuzzy\n",
        "Cannot perform leave one out cross validation\n"
       ]
      },
      {
       "output_type": "stream",
       "stream": "stdout",
       "text": [
        "Score on training set: 0.00\n",
        "Score on test set: 0.00\n",
        "\n",
        "Training adjective  hairy\n",
        "Cannot perform leave one out cross validation\n"
       ]
      },
      {
       "output_type": "stream",
       "stream": "stdout",
       "text": [
        "Score on training set: 0.00\n",
        "Score on test set: 0.00\n",
        "\n",
        "Training adjective  hard\n",
        "Cannot perform leave one out cross validation\n"
       ]
      },
      {
       "output_type": "stream",
       "stream": "stdout",
       "text": [
        "Score on training set: 0.88\n",
        "Score on test set: 0.85\n",
        "\n",
        "Training adjective  metallic\n",
        "Cannot perform leave one out cross validation\n"
       ]
      },
      {
       "output_type": "stream",
       "stream": "stdout",
       "text": [
        "Score on training set: 0.40\n",
        "Score on test set: 0.33\n",
        "\n",
        "Training adjective  nice\n",
        "Cannot perform leave one out cross validation\n"
       ]
      },
      {
       "output_type": "stream",
       "stream": "stdout",
       "text": [
        "Score on training set: 1.00\n",
        "Score on test set: 1.00\n",
        "\n",
        "Training adjective  porous\n",
        "Cannot perform leave one out cross validation\n"
       ]
      },
      {
       "output_type": "stream",
       "stream": "stdout",
       "text": [
        "Score on training set: 0.79\n",
        "Score on test set: 0.00\n",
        "\n",
        "Training adjective  rough\n",
        "Cannot perform leave one out cross validation\n"
       ]
      },
      {
       "output_type": "stream",
       "stream": "stdout",
       "text": [
        "Score on training set: 0.00\n",
        "Score on test set: 0.00\n",
        "\n",
        "Training adjective  scratchy\n",
        "Cannot perform leave one out cross validation\n"
       ]
      },
      {
       "output_type": "stream",
       "stream": "stdout",
       "text": [
        "Score on training set: 0.64\n",
        "Score on test set: 0.09\n",
        "\n",
        "Training adjective  slippery\n",
        "Cannot perform leave one out cross validation\n"
       ]
      },
      {
       "output_type": "stream",
       "stream": "stdout",
       "text": [
        "Score on training set: 0.00\n",
        "Score on test set: 0.00\n",
        "\n",
        "Training adjective  smooth\n",
        "Cannot perform leave one out cross validation\n"
       ]
      },
      {
       "output_type": "stream",
       "stream": "stdout",
       "text": [
        "Score on training set: 0.81\n",
        "Score on test set: 0.81\n",
        "\n",
        "Training adjective  soft\n",
        "Cannot perform leave one out cross validation\n"
       ]
      },
      {
       "output_type": "stream",
       "stream": "stdout",
       "text": [
        "Score on training set: 0.87\n",
        "Score on test set: 0.60\n",
        "\n",
        "Training adjective  solid\n",
        "Cannot perform leave one out cross validation\n"
       ]
      },
      {
       "output_type": "stream",
       "stream": "stdout",
       "text": [
        "Score on training set: 0.93\n",
        "Score on test set: 1.00\n",
        "\n",
        "Training adjective  springy\n",
        "Cannot perform leave one out cross validation\n"
       ]
      },
      {
       "output_type": "stream",
       "stream": "stdout",
       "text": [
        "Score on training set: 0.75\n",
        "Score on test set: 0.46\n",
        "\n",
        "Training adjective  squishy\n",
        "Cannot perform leave one out cross validation\n"
       ]
      },
      {
       "output_type": "stream",
       "stream": "stdout",
       "text": [
        "Score on training set: 0.87\n",
        "Score on test set: 0.75\n",
        "\n",
        "Training adjective  sticky\n",
        "Cannot perform leave one out cross validation\n"
       ]
      },
      {
       "output_type": "stream",
       "stream": "stdout",
       "text": [
        "Score on training set: 1.00\n",
        "Score on test set: 1.00\n",
        "\n",
        "Training adjective  textured\n",
        "Cannot perform leave one out cross validation\n"
       ]
      },
      {
       "output_type": "stream",
       "stream": "stdout",
       "text": [
        "Score on training set: 0.02\n",
        "Score on test set: 0.00\n",
        "\n",
        "Training adjective  thick\n",
        "Cannot perform leave one out cross validation\n"
       ]
      },
      {
       "output_type": "stream",
       "stream": "stdout",
       "text": [
        "Score on training set: 0.00\n",
        "Score on test set: 0.00\n",
        "\n",
        "Training adjective  thin\n",
        "Cannot perform leave one out cross validation\n"
       ]
      },
      {
       "output_type": "stream",
       "stream": "stdout",
       "text": [
        "Score on training set: 1.00\n",
        "Score on test set: 1.00\n",
        "\n",
        "Training adjective  unpleasant\n",
        "Cannot perform leave one out cross validation\n"
       ]
      },
      {
       "output_type": "stream",
       "stream": "stdout",
       "text": [
        "Score on training set: 1.00\n",
        "Score on test set: 1.00\n",
        "\n"
       ]
      }
     ],
     "prompt_number": 16
    },
    {
     "cell_type": "heading",
     "level": 1,
     "metadata": {},
     "source": [
      "Final F1 score, non-pca"
     ]
    },
    {
     "cell_type": "code",
     "collapsed": false,
     "input": [
      "plot(svm_score.values(), '-o', ms=20, lw=2, alpha=0.7, mfc='orange');\n",
      "xticks(range(len(svm_score)), svm_score.keys(), rotation=45);\n",
      "mean_score = mean(svm_score.values())\n",
      "title(\"F1 Score: %.2f\" % mean_score);"
     ],
     "language": "python",
     "metadata": {},
     "outputs": [
      {
       "output_type": "display_data",
       "png": "[encoded data removed]",
       "text": [
        "<matplotlib.figure.Figure at 0x5168cd0>"
       ]
      }
     ],
     "prompt_number": 18
    },
    {
     "cell_type": "heading",
     "level": 1,
     "metadata": {},
     "source": [
      "Final F1 score, pca"
     ]
    },
    {
     "cell_type": "code",
     "collapsed": false,
     "input": [
      "plot(svm_scores_pca.values(), '-o', ms=20, lw=2, alpha=0.7, mfc='orange');\n",
      "xticks(range(len(svm_scores_pca)), svm_scores_pca.keys(), rotation=45);\n",
      "mean_score = mean(svm_scores_pca.values())\n",
      "title(\"F1 Score: %.2f\" % mean_score);"
     ],
     "language": "python",
     "metadata": {},
     "outputs": [
      {
       "output_type": "display_data",
       "png": "[encoded data removed]",
       "text": [
        "<matplotlib.figure.Figure at 0x50339d0>"
       ]
      }
     ],
     "prompt_number": 11
    },
    {
     "cell_type": "code",
     "collapsed": false,
     "input": [],
     "language": "python",
     "metadata": {},
     "outputs": []
    }
   ],
   "metadata": {}
  }
 ]
}